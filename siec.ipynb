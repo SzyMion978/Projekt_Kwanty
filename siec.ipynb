{
 "cells": [
  {
   "cell_type": "markdown",
   "id": "2ab226d2-0007-48fe-ab11-44136108a5f6",
   "metadata": {},
   "source": [
    "# \"Pasma energetyczne\""
   ]
  },
  {
   "cell_type": "code",
   "execution_count": 56,
   "id": "83a56464-eb8a-4cfc-a1bf-cce44ea0d7c7",
   "metadata": {},
   "outputs": [],
   "source": [
    "import numpy as np\n",
    "import matplotlib.pyplot as plt\n",
    "import matplotlib.animation as anim\n",
    "from matplotlib.animation import FuncAnimation, HTMLWriter\n",
    "from IPython.core.display import HTML"
   ]
  },
  {
   "cell_type": "code",
   "execution_count": 57,
   "id": "e76542a9-0156-4ab9-8d2f-f18293ce5f89",
   "metadata": {},
   "outputs": [],
   "source": [
    "def gauss(x, a):\n",
    "    return (2 * a / np.pi)**(1/4) * np.exp(-a * x**2)"
   ]
  },
  {
   "cell_type": "code",
   "execution_count": 58,
   "id": "d77d2848-03b3-4d10-bff6-96ff6f01d17b",
   "metadata": {},
   "outputs": [],
   "source": [
    "dt = 0.004 * 10**(-15)\n",
    "dx = 0.1 * 10**(-9)\n",
    "hbar = 1.054 * 10**(-34)\n",
    "m = 0.91 * 10**(-30)"
   ]
  },
  {
   "cell_type": "code",
   "execution_count": 59,
   "id": "3dbcdf97-a86d-4abf-81cd-499287650267",
   "metadata": {},
   "outputs": [],
   "source": [
    "class moving_Psi:\n",
    "    ra = (hbar/(2*m)) * (dt/(dx**2))\n",
    "    a = 0.4\n",
    "    b = 2.5 * np.pi\n",
    "    Re = []\n",
    "    Im = []\n",
    "    Im_r = []\n",
    "    Im_f = []\n",
    "    P = []\n",
    "    X = []\n",
    "    V = []\n",
    "    def initialise(safe):\n",
    "        x = -25\n",
    "        while(x <= 25):\n",
    "            moving_Psi.Re.append(gauss((x + 6), moving_Psi.a) * np.cos(moving_Psi.b * (x + 6)))\n",
    "            moving_Psi.Im.append(gauss((x + 6), moving_Psi.a) * np.sin(moving_Psi.b * (x + 6)))\n",
    "            moving_Psi.Im_r.append(0.0)\n",
    "            moving_Psi.Im_f.append(0.0)\n",
    "            moving_Psi.V.append(0.0)\n",
    "            moving_Psi.P.append((gauss((x + 6), moving_Psi.a) * np.cos(moving_Psi.b * (x + 6)))**2 + (gauss((x + 6), moving_Psi.a) * np.sin(moving_Psi.b * (x + 6)))**2)\n",
    "            moving_Psi.X.append(x)\n",
    "            x += 0.025\n",
    "    def update(safe, n):\n",
    "        Re = moving_Psi.Re\n",
    "        Im = moving_Psi.Im\n",
    "        for k in range(0, n):\n",
    "            for i in range(1, len(moving_Psi.Re) - 1):\n",
    "                moving_Psi.Re[i] = Re[i] - moving_Psi.ra * (Im[i + 1] - 2 * Im[i] + Im[i - 1]) + dt/hbar * moving_Psi.V[i] * Im[i]\n",
    "                moving_Psi.Im[i] = Im[i] + moving_Psi.ra * (Re[i + 1] - 2 * Re[i] + Re[i - 1]) - dt/hbar * moving_Psi.V[i] * Re[i]\n",
    "                moving_Psi.Im_r[i] = Im[i]\n",
    "                moving_Psi.Im_f[i] = moving_Psi.Im[i] + moving_Psi.ra * (moving_Psi.Re[i + 1] - 2 * moving_Psi.Re[i] + moving_Psi.Re[i - 1]) - dt/hbar * moving_Psi.V[i] * Re[i]\n",
    "                moving_Psi.P[i] = moving_Psi.Re[i]**2 + moving_Psi.Im_r[i] * moving_Psi.Im_f[i]\n",
    "    def set_potential(safe, V):\n",
    "        for i in range(0, len(moving_Psi.V)):\n",
    "            moving_Psi.V[i] = V[i] \n",
    "    def compute_energy(safe):\n",
    "        A = hbar**2 / (2 * m * dx**2)\n",
    "        ke = 0 + 0.j\n",
    "        pe = 0 + 0.j\n",
    "        psi = []\n",
    "        for i in range(0, len(moving_Psi.Re)):\n",
    "            psi.append(moving_Psi.Re[i] + moving_Psi.Im[i] * 1.j)\n",
    "            pe += psi[i] * psi[i].conjugate() * moving_Psi.V[i]\n",
    "        for i in range(1, len(moving_Psi.Re) - 1):\n",
    "            Lap = psi[i + 1] - 2 * psi[i] + psi[i - 1]\n",
    "            ke += Lap * psi[i].conjugate() * (moving_Psi.X[i] - moving_Psi.X[i - 1])\n",
    "        KE = -A * np.real(ke)/(1.6 * 10**(-19))\n",
    "        PE = np.real(pe)\n",
    "        return (KE + PE)"
   ]
  },
  {
   "cell_type": "code",
   "execution_count": 60,
   "id": "df24ba76-4c15-441f-a588-bdb64bcfa8c7",
   "metadata": {},
   "outputs": [
    {
     "data": {
      "text/plain": [
       "0.14754208228863006"
      ]
     },
     "execution_count": 60,
     "metadata": {},
     "output_type": "execute_result"
    }
   ],
   "source": [
    "# Definicja potencjału\n",
    "V = []\n",
    "v = []\n",
    "x = -25\n",
    "k = 0\n",
    "while(x <= 25):\n",
    "    if((x >= (-18.02 + k) and x <= (-17.98 + k))):\n",
    "        V.append(-0.01 * 1.6 * 10**(-19))\n",
    "        k += 1\n",
    "        v.append(-0.2)\n",
    "    else:\n",
    "        V.append(0.0)\n",
    "        v.append(0.0)\n",
    "    x += 0.025\n",
    "     \n",
    "    \n",
    "psi = moving_Psi()\n",
    "psi.initialise()\n",
    "psi.set_potential(V)      \n",
    "psi.compute_energy()  "
   ]
  },
  {
   "cell_type": "code",
   "execution_count": null,
   "id": "0abc2cfb-c839-4d4f-b2ab-b04237de080f",
   "metadata": {},
   "outputs": [],
   "source": [
    "fig = plt.figure(figsize = (20,8))\n",
    "line4, = plt.plot([], [],'C4')\n",
    "line1, = plt.plot([], [],'C0')\n",
    "line2, = plt.plot([], [],'C1')\n",
    "line3, = plt.plot([], [],'C2')\n",
    "\n",
    "plt.grid(linestyle = '--',linewidth = 1)\n",
    "plt.ylim(-0.75, 0.75)\n",
    "plt.xlim(-15, 15)\n",
    "plt.xlabel('$x$')\n",
    "plt.ylabel('$\\Psi(x,t)$')\n",
    "\n",
    "plt.close()\n",
    "\n",
    "def frame(i):\n",
    "    line4.set_data(psi.X, v)\n",
    "    line1.set_data(psi.X, psi.Re)\n",
    "    line2.set_data(psi.X, psi.Im)\n",
    "    line3.set_data(psi.X, psi.P)    \n",
    "    if(i > 0):\n",
    "        psi.update(400)\n",
    "    \n",
    "    return line1, line2, line3\n",
    "\n",
    "\n",
    "\n",
    "animation = FuncAnimation(fig, frame, frames = 300, interval = 20)\n",
    "\n",
    "file = r\"grate.html\"\n",
    "writervideo = anim.HTMLWriter(fps=100) \n",
    "animation.save(file, writer=writervideo)\n",
    "\n",
    "#HTML(animation.to_jshtml())"
   ]
  },
  {
   "cell_type": "code",
   "execution_count": null,
   "id": "bde373be-ab27-4fd7-8631-d9cf76196151",
   "metadata": {},
   "outputs": [],
   "source": []
  }
 ],
 "metadata": {
  "kernelspec": {
   "display_name": "Python 3 (ipykernel)",
   "language": "python",
   "name": "python3"
  },
  "language_info": {
   "codemirror_mode": {
    "name": "ipython",
    "version": 3
   },
   "file_extension": ".py",
   "mimetype": "text/x-python",
   "name": "python",
   "nbconvert_exporter": "python",
   "pygments_lexer": "ipython3",
   "version": "3.9.7"
  }
 },
 "nbformat": 4,
 "nbformat_minor": 5
}
