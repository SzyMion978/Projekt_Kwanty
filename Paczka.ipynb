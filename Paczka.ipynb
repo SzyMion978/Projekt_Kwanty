{
 "cells": [
  {
   "cell_type": "code",
   "execution_count": 1,
   "id": "1f76ffa2-2969-4ef2-942f-20620f73c99f",
   "metadata": {},
   "outputs": [],
   "source": [
    "import numpy as np\n",
    "import matplotlib.pyplot as plt\n",
    "import matplotlib.animation as anim\n",
    "from matplotlib.animation import FuncAnimation, HTMLWriter\n",
    "from IPython.core.display import HTML"
   ]
  },
  {
   "cell_type": "markdown",
   "id": "59082817-a8d3-4640-abe4-7da1c62b4355",
   "metadata": {},
   "source": [
    "# Wykorzystane wzory:\n",
    "\n",
    "Funkcja falowa: $\\psi(x,t) = \\psi_{\\text{re}}(x,t) + i\\psi_{\\text{im}}(x,t)$\n",
    "\n",
    "$\\psi_{\\text{re}}(x , t + \\Delta t) = \\psi_{\\text{re}}(x, t) - \\frac{\\hbar\\Delta t}{2  m_\\text{e}(\\Delta x)^2}\\left[ \\psi_{\\text{im}}\\left(x+\\Delta x, t + \\frac{\\Delta t}{2}\\right) - 2\\psi_{\\text{im}}\\left(x, t + \\frac{\\Delta t}{2}\\right) + \\psi_{\\text{im}}\\left(x-\\Delta x, t + \\frac{\\Delta t}{2}\\right) \\right] + \\frac{\\Delta t}{\\hbar}V(x)\\psi_{\\text{im}}\\left(x, t + \\frac{\\Delta t}{2}\\right)$\n",
    "$\\psi_{\\text{im}}(x , t + \\frac{3}{2}\\Delta t) = \\psi_{\\text{im}}\\left(x, t + \\frac{\\Delta t}{2}\\right) + \\frac{\\hbar\\Delta t}{2  m_\\text{e}(\\Delta x)^2}\\left[ \\psi_{\\text{re}}\\left(x+\\Delta x, t + \\Delta t\\right) - 2\\psi_{\\text{re}}\\left(x, t + \\Delta t\\right) + \\psi_{\\text{re}}\\left(x-\\Delta x, t + \\Delta t\\right) \\right] - \\frac{\\Delta t}{\\hbar}V(x)\\psi_{\\text{re}}\\left(x, t + \\Delta t\\right)$\n",
    "\n",
    "Wartość oczekiwana energii: $\\langle\\text{E}\\rangle = \\langle\\text{KE}\\rangle + \\langle\\text{PE}\\rangle$\n",
    "\n",
    "$\\langle\\text{KE}\\rangle = \\frac{\\hbar^2}{2m(\\Delta x)^2}\\sum\\limits_{n = 1}^{N}\\psi^{*}_{n}\\cdot\\left[ \\psi_{n+1} - 2\\psi_{n} + \\psi_{n-1} \\right]\\cdot(x_{n} - x_{n-1})$\n",
    "\n",
    "$\\langle\\text{PE}\\rangle = \\sum\\limits_{n = 1}^{N}\\psi^{*}_{n}\\cdot V(x_n)\\cdot\\psi_{n}\\cdot(x_{n} - x_{n-1})$\n",
    "\n",
    "Prawdopodobieństwo: $P(x,t) = \\left[\\psi_{\\text{re}}(x,t)\\right]^2 + \\psi_{\\text{im}}(x, t + \\frac{\\Delta t}{2})\\cdot\\psi_{\\text{im}}(x, t - \\frac{\\Delta t}{2}) $\n",
    "\n",
    "$$\\Psi(x, 0) = \\sqrt[4]{\\frac{2a}{\\pi}}\\cdot \\text{e}^{-ax^2}$$"
   ]
  },
  {
   "cell_type": "code",
   "execution_count": 2,
   "id": "b63c1433-59e1-4204-935c-b4817bf8879b",
   "metadata": {
    "tags": []
   },
   "outputs": [],
   "source": [
    "dt = 0.005 * 10**(-15)\n",
    "dx = 0.1 * 10**(-9)\n",
    "hbar = 1.054 * 10**(-34)\n",
    "m = 0.91 * 10**(-30)"
   ]
  },
  {
   "cell_type": "code",
   "execution_count": 3,
   "id": "2318cafa-0d06-4331-bcca-a86a89d2afd0",
   "metadata": {
    "tags": []
   },
   "outputs": [],
   "source": [
    "def gauss(x, a):\n",
    "    return (2 * a / np.pi)**(1/4) * np.exp(-a * x**2)"
   ]
  },
  {
   "cell_type": "markdown",
   "id": "d7ee8b50-1dba-4e51-8c76-d063c3d64468",
   "metadata": {},
   "source": [
    "# Cząstka swobodna: $V(x) = 0$"
   ]
  },
  {
   "cell_type": "code",
   "execution_count": 28,
   "id": "3bbd4c2c-601b-4202-a3ae-7d2efa5ef573",
   "metadata": {},
   "outputs": [],
   "source": [
    "class Psi:\n",
    "    ra = (hbar/(2*m)) * (dt/(dx**2))\n",
    "    a = 1.0\n",
    "    Re = []\n",
    "    Im = []\n",
    "    Im_r = []\n",
    "    Im_f = []\n",
    "    P = []\n",
    "    X = []\n",
    "    V = []\n",
    "    def initialise(safe):\n",
    "        x = -15\n",
    "        while(x <= 15):\n",
    "            Psi.Re.append(gauss(x, Psi.a))\n",
    "            Psi.Im.append(0.0)\n",
    "            Psi.Im_r.append(0.0)\n",
    "            Psi.Im_f.append(0.0)\n",
    "            Psi.V.append(0.0) \n",
    "            Psi.P.append(gauss(x, Psi.a)**2)\n",
    "            Psi.X.append(x)\n",
    "            x += 0.1 \n",
    "    def update(safe, n):\n",
    "        Re = Psi.Re\n",
    "        Im = Psi.Im\n",
    "        for k in range(0, n):\n",
    "            for i in range(1, len(Psi.Re) - 1):\n",
    "                Psi.Re[i] = Re[i] - Psi.ra * (Im[i + 1] - 2 * Im[i] + Im[i - 1]) + dt/hbar * Psi.V[i] * Im[i]\n",
    "                Psi.Im[i] = Im[i] + Psi.ra * (Re[i + 1] - 2 * Re[i] + Re[i - 1]) - dt/hbar * Psi.V[i] * Re[i]               \n",
    "                Psi.Im_r[i] = Im[i]\n",
    "                Psi.Im_f[i] = Psi.Im[i] + Psi.ra * (Psi.Re[i + 1] - 2 * Psi.Re[i] + Psi.Re[i - 1]) - dt/hbar * Psi.V[i] * Re[i] \n",
    "                Psi.P[i] = Psi.Re[i]**2 + Psi.Im_r[i] * Psi.Im_f[i]\n",
    "    def set_potential(safe, V):\n",
    "        for i in range(0, len(Psi.V)):\n",
    "            Psi.V[i] = V[i] \n",
    "    def compute_energy(safe):\n",
    "        A = hbar**2 / (2 * m * dx**2)\n",
    "        ke = 0 + 0.j\n",
    "        pe = 0 + 0.j\n",
    "        psi = []\n",
    "        for i in range(0, len(Psi.Re)):\n",
    "            psi.append(Psi.Re[i] + Psi.Im[i] * 1.j)\n",
    "            pe += psi[i] * psi[i].conjugate() * Psi.V[i]\n",
    "        for i in range(1, len(Psi.Re) - 1):\n",
    "            Lap = psi[i + 1] - 2 * psi[i] + psi[i - 1]\n",
    "            ke += Lap * psi[i].conjugate() * (Psi.X[i] - Psi.X[i - 1])\n",
    "        KE = -A * np.real(ke)/(1.6 * 10**(-19))\n",
    "        PE = np.real(pe)\n",
    "        return (PE + KE) "
   ]
  },
  {
   "cell_type": "code",
   "execution_count": 29,
   "id": "755af03a-12dd-4b62-a23b-3b3ad57c3d33",
   "metadata": {},
   "outputs": [
    {
     "data": {
      "text/plain": [
       "0.03805437270042673"
      ]
     },
     "execution_count": 29,
     "metadata": {},
     "output_type": "execute_result"
    }
   ],
   "source": [
    "psi = Psi()\n",
    "psi.initialise()\n",
    "psi.compute_energy() # w eV"
   ]
  },
  {
   "cell_type": "code",
   "execution_count": 30,
   "id": "a8d7c1fc-8dce-4647-98b0-6712e7f9a7da",
   "metadata": {},
   "outputs": [],
   "source": [
    "fig = plt.figure(figsize = (12,6))\n",
    "line1, = plt.plot([], [],'C0')\n",
    "line2, = plt.plot([], [],'C1')\n",
    "line3, = plt.plot([], [],'C2')\n",
    "plt.grid(linestyle = '--',linewidth = 1)\n",
    "plt.ylim(-0.5,1.5)\n",
    "plt.xlim(-10, 10)\n",
    "plt.xlabel('$x$')\n",
    "plt.ylabel('$\\Psi(x,t)$')\n",
    "\n",
    "plt.close()\n",
    "\n",
    "   \n",
    "def frame(i):\n",
    "    line1.set_data(psi.X, psi.Re)\n",
    "    line2.set_data(psi.X, psi.Im)\n",
    "    line3.set_data(psi.X, psi.P)\n",
    "    if(i > 0):\n",
    "        psi.update(20)\n",
    "    \n",
    "    return line1, line2, line3\n",
    "\n",
    "\n",
    "\n",
    "animation = FuncAnimation(fig, frame, frames = 50, interval = 20)\n",
    "\n",
    "#file = r\"swobodna_stacjonarna.html\"\n",
    "#writervideo = anim.HTMLWriter(fps=100) \n",
    "#animation.save(file, writer=writervideo)\n",
    "\n",
    "HTML(animation.to_jshtml())\n"
   ]
  },
  {
   "cell_type": "markdown",
   "id": "ec8ba8ca-4c3e-4cda-b05a-8116b70869c3",
   "metadata": {
    "tags": []
   },
   "source": [
    "# Biegnąca cząstka swobodna: $V(x) = 0$ "
   ]
  },
  {
   "cell_type": "code",
   "execution_count": 7,
   "id": "d96ab2b9-7402-4b4c-82fb-2cd42db260be",
   "metadata": {
    "tags": []
   },
   "outputs": [],
   "source": [
    "dt = 0.001 * 10**(-15)"
   ]
  },
  {
   "cell_type": "code",
   "execution_count": 15,
   "id": "d07b826e-b12e-42bc-9573-57f7a1f837cf",
   "metadata": {},
   "outputs": [],
   "source": [
    "class moving_Psi:\n",
    "    ra = (hbar/(2*m)) * (dt/(dx**2))\n",
    "    a = 1.0\n",
    "    b = 5.0\n",
    "    Re = []\n",
    "    Im = []\n",
    "    Im_r = []\n",
    "    Im_f = []\n",
    "    P = []\n",
    "    X = []\n",
    "    V = []\n",
    "    def initialise(safe):\n",
    "        x = -15\n",
    "        while(x <= 15):\n",
    "            moving_Psi.Re.append(gauss((x + 5), moving_Psi.a) * np.cos(moving_Psi.b * (x + 5)))\n",
    "            moving_Psi.Im.append(gauss((x + 5), moving_Psi.a) * np.sin(moving_Psi.b * (x + 5)))\n",
    "            moving_Psi.Im_r.append(0.0)\n",
    "            moving_Psi.Im_f.append(0.0)\n",
    "            moving_Psi.V.append(0.0)\n",
    "            moving_Psi.P.append((gauss((x + 5), moving_Psi.a) * np.cos(moving_Psi.b * (x + 5)))**2 + (gauss((x + 5), moving_Psi.a) * np.sin(moving_Psi.b * (x + 5)))**2)\n",
    "            moving_Psi.X.append(x)\n",
    "            x += 0.04 \n",
    "    def update(safe, n):\n",
    "        Re = moving_Psi.Re\n",
    "        Im = moving_Psi.Im\n",
    "        for k in range(0, n):\n",
    "            for i in range(1, len(moving_Psi.Re) - 1):\n",
    "                moving_Psi.Re[i] = Re[i] - moving_Psi.ra * (Im[i + 1] - 2 * Im[i] + Im[i - 1]) + dt/hbar * moving_Psi.V[i] * Im[i]\n",
    "                moving_Psi.Im[i] = Im[i] + moving_Psi.ra * (Re[i + 1] - 2 * Re[i] + Re[i - 1]) - dt/hbar * moving_Psi.V[i] * Re[i]\n",
    "                moving_Psi.Im_r[i] = Im[i]\n",
    "                moving_Psi.Im_f[i] = moving_Psi.Im[i] + moving_Psi.ra * (moving_Psi.Re[i + 1] - 2 * moving_Psi.Re[i] + moving_Psi.Re[i - 1]) - dt/hbar * moving_Psi.V[i] * Re[i]\n",
    "                moving_Psi.P[i] = moving_Psi.Re[i]**2 + moving_Psi.Im_r[i] * moving_Psi.Im_f[i]\n",
    "    def set_potential(safe, V):\n",
    "        for i in range(0, len(moving_Psi.V)):\n",
    "            moving_Psi.V[i] = V[i]\n",
    "    def compute_energy(safe):\n",
    "        A = hbar**2 / (2 * m * dx**2)\n",
    "        ke = 0 + 0.j\n",
    "        pe = 0 + 0.j\n",
    "        psi = []\n",
    "        for i in range(0, len(moving_Psi.Re)):\n",
    "            psi.append(moving_Psi.Re[i] + moving_Psi.Im[i] * 1.j)\n",
    "            pe += psi[i] * psi[i].conjugate() * moving_Psi.V[i]\n",
    "        for i in range(1, len(moving_Psi.Re) - 1):\n",
    "            Lap = psi[i + 1] - 2 * psi[i] + psi[i - 1]\n",
    "            ke += Lap * psi[i].conjugate() * (moving_Psi.X[i] - moving_Psi.X[i - 1])\n",
    "        KE = -A * np.real(ke)/(1.6 * 10**(-19))\n",
    "        PE = np.real(pe)\n",
    "        return (PE + KE)        "
   ]
  },
  {
   "cell_type": "code",
   "execution_count": 16,
   "id": "5fb27607-dcd8-40b1-905d-c7be1d8fa617",
   "metadata": {},
   "outputs": [
    {
     "data": {
      "text/plain": [
       "0.1580702377115033"
      ]
     },
     "execution_count": 16,
     "metadata": {},
     "output_type": "execute_result"
    }
   ],
   "source": [
    "psi = moving_Psi()\n",
    "psi.initialise()\n",
    "psi.compute_energy()"
   ]
  },
  {
   "cell_type": "code",
   "execution_count": 26,
   "id": "d35ddb5d-beb0-4a26-985e-ed0935a74e4f",
   "metadata": {},
   "outputs": [],
   "source": [
    "fig = plt.figure(figsize = (12,6))\n",
    "line1, = plt.plot([], [],'C0')\n",
    "line2, = plt.plot([], [],'C1')\n",
    "line3, = plt.plot([], [],'C2')\n",
    "plt.grid(linestyle = '--',linewidth = 1)\n",
    "plt.ylim(-1,1)\n",
    "plt.xlim(-10, 10)\n",
    "plt.xlabel('$x$')\n",
    "plt.ylabel('$\\Psi(x,t)$')\n",
    "\n",
    "plt.close()\n",
    "\n",
    "   \n",
    "def frame(i):\n",
    "    line1.set_data(psi.X, psi.Re)\n",
    "    line2.set_data(psi.X, psi.Im)\n",
    "    line3.set_data(psi.X, psi.P)\n",
    "    psi.update(350)\n",
    "    \n",
    "    return line1, line2, line3\n",
    "\n",
    "\n",
    "\n",
    "animation = FuncAnimation(fig, frame, frames = 1, interval = 20)\n",
    "\n",
    "#file = r\"swobodna_biegnaca.html\"\n",
    "#writervideo = anim.HTMLWriter(fps=100) \n",
    "#animation.save(file, writer=writervideo)\n",
    "\n",
    "HTML(animation.to_jshtml())"
   ]
  },
  {
   "cell_type": "markdown",
   "id": "0e0280fe-90b7-45d4-9e2c-f67723bbb2be",
   "metadata": {
    "tags": []
   },
   "source": [
    "# Schodek potenjału: $V(x) = \\left\\{ \\begin{array}{cc}  \n",
    "0.0 \\text{ eV} & \\text{ dla } x < 0 \\\\\n",
    "0.1 \\text{ eV} & \\text{ dla } x > 0 \\\\\n",
    "\\end{array} \\right.$ "
   ]
  },
  {
   "cell_type": "code",
   "execution_count": 20,
   "id": "f7622d36-9fb1-4fdc-9c95-8b69e8962189",
   "metadata": {},
   "outputs": [],
   "source": [
    "class moving_Psi:\n",
    "    ra = (hbar/(2*m)) * (dt/(dx**2))\n",
    "    a = 1.0\n",
    "    b = 5.0\n",
    "    Re = []\n",
    "    Im = []\n",
    "    Im_r = []\n",
    "    Im_f = []\n",
    "    P = []\n",
    "    X = []\n",
    "    V = []\n",
    "    def initialise(safe):\n",
    "        x = -20\n",
    "        while(x <= 20):\n",
    "            moving_Psi.Re.append(gauss((x + 5), moving_Psi.a) * np.cos(moving_Psi.b * (x + 5)))\n",
    "            moving_Psi.Im.append(gauss((x + 5), moving_Psi.a) * np.sin(moving_Psi.b * (x + 5)))\n",
    "            moving_Psi.Im_r.append(0.0)\n",
    "            moving_Psi.Im_f.append(0.0)\n",
    "            moving_Psi.V.append(0.0)\n",
    "            moving_Psi.P.append((gauss((x + 5), moving_Psi.a) * np.cos(moving_Psi.b * (x + 5)))**2 + (gauss((x + 5), moving_Psi.a) * np.sin(moving_Psi.b * (x + 5)))**2)\n",
    "            moving_Psi.X.append(x)\n",
    "            x += 0.04 \n",
    "    def update(safe, n):\n",
    "        Re = moving_Psi.Re\n",
    "        Im = moving_Psi.Im\n",
    "        for k in range(0, n):\n",
    "            for i in range(1, len(moving_Psi.Re) - 1):\n",
    "                moving_Psi.Re[i] = Re[i] - moving_Psi.ra * (Im[i + 1] - 2 * Im[i] + Im[i - 1]) + dt/hbar * moving_Psi.V[i] * Im[i]\n",
    "                moving_Psi.Im[i] = Im[i] + moving_Psi.ra * (Re[i + 1] - 2 * Re[i] + Re[i - 1]) - dt/hbar * moving_Psi.V[i] * Re[i]\n",
    "                moving_Psi.Im_r[i] = Im[i]\n",
    "                moving_Psi.Im_f[i] = moving_Psi.Im[i] + moving_Psi.ra * (moving_Psi.Re[i + 1] - 2 * moving_Psi.Re[i] + moving_Psi.Re[i - 1]) - dt/hbar * moving_Psi.V[i] * Re[i]\n",
    "                moving_Psi.P[i] = moving_Psi.Re[i]**2 + moving_Psi.Im_r[i] * moving_Psi.Im_f[i]\n",
    "    def set_potential(safe, V):\n",
    "        for i in range(0, len(moving_Psi.V)):\n",
    "            moving_Psi.V[i] = V[i] \n",
    "    def compute_energy(safe):\n",
    "        A = hbar**2 / (2 * m * dx**2)\n",
    "        ke = 0 + 0.j\n",
    "        pe = 0 + 0.j\n",
    "        psi = []\n",
    "        for i in range(0, len(moving_Psi.Re)):\n",
    "            psi.append(moving_Psi.Re[i] + moving_Psi.Im[i] * 1.j)\n",
    "            pe += psi[i] * psi[i].conjugate() * moving_Psi.V[i]\n",
    "        for i in range(1, len(moving_Psi.Re) - 1):\n",
    "            Lap = psi[i + 1] - 2 * psi[i] + psi[i - 1]\n",
    "            ke += Lap * psi[i].conjugate() * (moving_Psi.X[i] - moving_Psi.X[i - 1])\n",
    "        KE = -A * np.real(ke)/(1.6 * 10**(-19))\n",
    "        PE = np.real(pe)\n",
    "        return (PE + KE)           \n",
    "            "
   ]
  },
  {
   "cell_type": "code",
   "execution_count": 21,
   "id": "339a8884-e9a5-4628-bdb6-44fa21b9f59b",
   "metadata": {},
   "outputs": [],
   "source": [
    "# Definicja potencjału\n",
    "V = []\n",
    "v = []\n",
    "X = []\n",
    "x = -20\n",
    "while(x <= 20):\n",
    "    if(x <= 0):\n",
    "        V.append(0)\n",
    "        v.append(0)\n",
    "        X.append(x)\n",
    "        if(x > -0.04):\n",
    "            X.append(x)\n",
    "    else:\n",
    "        V.append(0.1 * 1.6 * 10**(-19))\n",
    "        v.append(0.5)\n",
    "        if(x < 20):            \n",
    "            X.append(x)\n",
    "    x += 0.04 \n",
    "v.append(0.5)    "
   ]
  },
  {
   "cell_type": "code",
   "execution_count": 22,
   "id": "7ebe6b12-0a5c-4c10-b61d-c0d7dbe4ca20",
   "metadata": {},
   "outputs": [
    {
     "data": {
      "text/plain": [
       "0.15807023771150325"
      ]
     },
     "execution_count": 22,
     "metadata": {},
     "output_type": "execute_result"
    }
   ],
   "source": [
    "dt = 0.001 * 10**(-15)\n",
    "psi = moving_Psi()\n",
    "psi.initialise()\n",
    "psi.set_potential(V)\n",
    "psi.compute_energy()"
   ]
  },
  {
   "cell_type": "code",
   "execution_count": 150,
   "id": "75e40c24-0d7c-41b0-a949-c40431d1a310",
   "metadata": {},
   "outputs": [],
   "source": [
    "fig = plt.figure(figsize = (16,6))\n",
    "line1, = plt.plot([], [],'C0')\n",
    "line2, = plt.plot([], [],'C1')\n",
    "line3, = plt.plot([], [],'C2')\n",
    "line4, = plt.plot([], [],'C5', linestyle = '--', linewidth = 1)\n",
    "plt.ylim(-1,1)\n",
    "plt.xlim(-15, 15)\n",
    "plt.xlabel('$x$')\n",
    "plt.ylabel('$\\Psi(x,t)$')\n",
    "\n",
    "plt.close()\n",
    "\n",
    "   \n",
    "def frame(i):\n",
    "    line4.set_data(X, v)\n",
    "    line1.set_data(psi.X, psi.Re)\n",
    "    line2.set_data(psi.X, psi.Im)\n",
    "    line3.set_data(psi.X, psi.P)    \n",
    "    psi.update(400)\n",
    "    \n",
    "    return line1, line2, line3, line4\n",
    "\n",
    "\n",
    "animation = FuncAnimation(fig, frame, frames = 400, interval = 20)\n",
    "\n",
    "#file = r\"schodek.html\"\n",
    "#writervideo = anim.HTMLWriter(fps=100) \n",
    "#animation.save(file, writer=writervideo)\n",
    "\n",
    "HTML(animation.to_jshtml())"
   ]
  },
  {
   "cell_type": "markdown",
   "id": "6c8720f2-3f16-41ae-8529-7a34d29f31dc",
   "metadata": {},
   "source": [
    "# Bariera potenjału: $V(x) = \\left\\{ \\begin{array}{cc}  \n",
    "0.3\\text{ eV} & \\text{ dla } x \\in \\left(-0.5, 0.5\\right) \\\\\n",
    "0.0\\text{ eV} & \\text{w p.p. } \\\\\n",
    "\\end{array} \\right.$ "
   ]
  },
  {
   "cell_type": "code",
   "execution_count": 23,
   "id": "8c53463e-7136-4a27-9028-ba775ad01ede",
   "metadata": {},
   "outputs": [],
   "source": [
    "dt = 0.001 * 10**(-15)"
   ]
  },
  {
   "cell_type": "code",
   "execution_count": 24,
   "id": "362f9258-63bc-4940-88b1-301c7bff08c2",
   "metadata": {},
   "outputs": [],
   "source": [
    "class moving_Psi:\n",
    "    ra = (hbar/(2*m)) * (dt/(dx**2))\n",
    "    a = 1.0\n",
    "    b = 5.0\n",
    "    Re = []\n",
    "    Im = []\n",
    "    Im_r = []\n",
    "    Im_f = []\n",
    "    P = []\n",
    "    X = []\n",
    "    V = []\n",
    "    def initialise(safe):\n",
    "        x = -20\n",
    "        while(x <= 20):\n",
    "            moving_Psi.Re.append(gauss((x + 5), moving_Psi.a) * np.cos(moving_Psi.b * (x + 5)))\n",
    "            moving_Psi.Im.append(gauss((x + 5), moving_Psi.a) * np.sin(moving_Psi.b * (x + 5)))\n",
    "            moving_Psi.Im_r.append(0.0)\n",
    "            moving_Psi.Im_f.append(0.0)\n",
    "            moving_Psi.V.append(0.0)\n",
    "            moving_Psi.P.append((gauss((x + 5), moving_Psi.a) * np.cos(moving_Psi.b * (x + 5)))**2 + (gauss((x + 5), moving_Psi.a) * np.sin(moving_Psi.b * (x + 5)))**2)\n",
    "            moving_Psi.X.append(x)\n",
    "            x += 0.04 \n",
    "    def update(safe, n):\n",
    "        Re = moving_Psi.Re\n",
    "        Im = moving_Psi.Im\n",
    "        for k in range(0, n):\n",
    "            for i in range(1, len(moving_Psi.Re) - 1):\n",
    "                moving_Psi.Re[i] = Re[i] - moving_Psi.ra * (Im[i + 1] - 2 * Im[i] + Im[i - 1]) + dt/hbar * moving_Psi.V[i] * Im[i]\n",
    "                moving_Psi.Im[i] = Im[i] + moving_Psi.ra * (Re[i + 1] - 2 * Re[i] + Re[i - 1]) - dt/hbar * moving_Psi.V[i] * Re[i]\n",
    "                moving_Psi.Im_r[i] = Im[i]\n",
    "                moving_Psi.Im_f[i] = moving_Psi.Im[i] + moving_Psi.ra * (moving_Psi.Re[i + 1] - 2 * moving_Psi.Re[i] + moving_Psi.Re[i - 1]) - dt/hbar * moving_Psi.V[i] * Re[i]\n",
    "                moving_Psi.P[i] = moving_Psi.Re[i]**2 + moving_Psi.Im_r[i] * moving_Psi.Im_f[i]\n",
    "    def set_potential(safe, V):\n",
    "        for i in range(0, len(moving_Psi.V)):\n",
    "            moving_Psi.V[i] = V[i] \n",
    "    def compute_energy(safe):\n",
    "        A = hbar**2 / (2 * m * dx**2)\n",
    "        ke = 0 + 0.j\n",
    "        pe = 0 + 0.j\n",
    "        psi = []\n",
    "        for i in range(0, len(moving_Psi.Re)):\n",
    "            psi.append(moving_Psi.Re[i] + moving_Psi.Im[i] * 1.j)\n",
    "            pe += psi[i] * psi[i].conjugate() * moving_Psi.V[i]\n",
    "        for i in range(1, len(moving_Psi.Re) - 1):\n",
    "            Lap = psi[i + 1] - 2 * psi[i] + psi[i - 1]\n",
    "            ke += Lap * psi[i].conjugate() * (moving_Psi.X[i] - moving_Psi.X[i - 1])\n",
    "        KE = -A * np.real(ke)/(1.6 * 10**(-19))\n",
    "        PE = np.real(pe)\n",
    "        return (PE + KE) \n",
    "        \n",
    "    "
   ]
  },
  {
   "cell_type": "code",
   "execution_count": 25,
   "id": "6399910e-39bc-41af-8a80-c9b3b05d301b",
   "metadata": {},
   "outputs": [
    {
     "data": {
      "text/plain": [
       "0.15807023771150325"
      ]
     },
     "execution_count": 25,
     "metadata": {},
     "output_type": "execute_result"
    }
   ],
   "source": [
    "# Definicja potencjału\n",
    "V = []\n",
    "v = []\n",
    "X = []\n",
    "x = -20\n",
    "while(x <= 20):\n",
    "    if(x >= -0.5 and x <= 0.5):\n",
    "        V.append(0.3 * 1.6 * 10**(-19))\n",
    "        X.append(x)\n",
    "        v.append(0.5)\n",
    "        if(x < -0.47 or x > 0.47):\n",
    "            X.append(x)\n",
    "            v.append(0.0)\n",
    "                \n",
    "    else:\n",
    "        V.append(0.0)\n",
    "        X.append(x)\n",
    "        v.append(0.0)\n",
    "    x += 0.04\n",
    "    \n",
    "psi = moving_Psi()\n",
    "psi.initialise()\n",
    "psi.set_potential(V) \n",
    "psi.compute_energy()"
   ]
  },
  {
   "cell_type": "code",
   "execution_count": 45,
   "id": "5889e190-f520-4d57-b778-20a5e75f6914",
   "metadata": {},
   "outputs": [],
   "source": [
    "fig = plt.figure(figsize = (16,8))\n",
    "line4, = plt.plot([], [],'C4')\n",
    "line1, = plt.plot([], [],'C0')\n",
    "line2, = plt.plot([], [],'C1')\n",
    "line3, = plt.plot([], [],'C2')\n",
    "\n",
    "plt.grid(linestyle = '--',linewidth = 1)\n",
    "plt.ylim(-1, 1)\n",
    "plt.xlim(-15, 15)\n",
    "plt.xlabel('$x$')\n",
    "plt.ylabel('$\\Psi(x,t)$')\n",
    "\n",
    "plt.close()\n",
    "\n",
    "def frame(i):\n",
    "    line4.set_data(X, v)\n",
    "    line1.set_data(psi.X, psi.Re)\n",
    "    line2.set_data(psi.X, psi.Im)\n",
    "    line3.set_data(psi.X, psi.P)    \n",
    "    if(i > 0):\n",
    "        psi.update(400)\n",
    "    \n",
    "    return line1, line2, line3\n",
    "\n",
    "\n",
    "\n",
    "animation = FuncAnimation(fig, frame, frames = 400, interval = 20)\n",
    "\n",
    "#file = r\"bariera_IV.html\"\n",
    "#writervideo = anim.HTMLWriter(fps=100) \n",
    "#animation.save(file, writer=writervideo)\n",
    "\n",
    "HTML(animation.to_jshtml())"
   ]
  }
 ],
 "metadata": {
  "kernelspec": {
   "display_name": "Python 3 (ipykernel)",
   "language": "python",
   "name": "python3"
  },
  "language_info": {
   "codemirror_mode": {
    "name": "ipython",
    "version": 3
   },
   "file_extension": ".py",
   "mimetype": "text/x-python",
   "name": "python",
   "nbconvert_exporter": "python",
   "pygments_lexer": "ipython3",
   "version": "3.9.7"
  }
 },
 "nbformat": 4,
 "nbformat_minor": 5
}
