{
 "cells": [
  {
   "cell_type": "code",
   "execution_count": 1,
   "id": "21f39847-e2aa-4613-bb01-94750161b221",
   "metadata": {},
   "outputs": [],
   "source": [
    "import numpy as np\n",
    "import matplotlib.pyplot as plt\n",
    "import matplotlib.animation as anim\n",
    "from matplotlib.animation import FuncAnimation, HTMLWriter\n",
    "from IPython.core.display import HTML"
   ]
  },
  {
   "cell_type": "code",
   "execution_count": 2,
   "id": "0d90faa2-8904-4c1c-b6ff-3debd284aede",
   "metadata": {},
   "outputs": [],
   "source": [
    "def gauss(x, a):\n",
    "    return (2 * a / np.pi)**(1/4) * np.exp(-a * x**2)"
   ]
  },
  {
   "cell_type": "markdown",
   "id": "5961b4f1-2f8c-4061-a812-2c5633be01d3",
   "metadata": {},
   "source": [
    "# Model elektronu w sieci krystalicznej"
   ]
  },
  {
   "cell_type": "code",
   "execution_count": 7,
   "id": "10a5fb87-b995-417c-ae67-1e48b80e635a",
   "metadata": {},
   "outputs": [],
   "source": [
    "dt = 0.005 * 10**(-15)\n",
    "dx = 0.1 * 10**(-9)\n",
    "hbar = 1.054 * 10**(-34)\n",
    "m = 0.91 * 10**(-30)\n",
    "\n",
    "class Psi:\n",
    "    ra = (hbar/(2*m)) * (dt/(dx**2))\n",
    "    a = 2.0\n",
    "    Re = []\n",
    "    Im = []\n",
    "    Im_r = []\n",
    "    Im_f = []\n",
    "    P = []\n",
    "    X = []\n",
    "    V = []\n",
    "    def initialise(safe):\n",
    "        x = -15\n",
    "        while(x <= 15):\n",
    "            Psi.Re.append(gauss(x, Psi.a))\n",
    "            Psi.Im.append(0.0)\n",
    "            Psi.Im_r.append(0.0)\n",
    "            Psi.Im_f.append(0.0)\n",
    "            Psi.V.append(0.0) \n",
    "            Psi.P.append(gauss(x, Psi.a)**2)\n",
    "            Psi.X.append(x)\n",
    "            x += 0.025 \n",
    "    def update(safe, n):\n",
    "        Re = Psi.Re\n",
    "        Im = Psi.Im\n",
    "        for k in range(0, n):\n",
    "            for i in range(0, len(Psi.Re) - 1):\n",
    "                Psi.Re[i] = Re[i] - Psi.ra * (Im[i + 1] - 2 * Im[i] + Im[i - 1]) + dt/hbar * Psi.V[i] * Im[i]\n",
    "                Psi.Im[i] = Im[i] + Psi.ra * (Re[i + 1] - 2 * Re[i] + Re[i - 1]) - dt/hbar * Psi.V[i] * Re[i]               \n",
    "                Psi.Im_r[i] = Im[i]\n",
    "                Psi.Im_f[i] = Psi.Im[i] + Psi.ra * (Psi.Re[i + 1] - 2 * Psi.Re[i] + Psi.Re[i - 1]) - dt/hbar * Psi.V[i] * Re[i] \n",
    "                Psi.P[i] = Psi.Re[i]**2 + Psi.Im_r[i] * Psi.Im_f[i]\n",
    "    def set_potential(safe, V):\n",
    "        for i in range(0, len(Psi.V)):\n",
    "            Psi.V[i] = V[i] \n",
    "    def set_potential(safe, V):\n",
    "        for i in range(0, len(Psi.V)):\n",
    "            Psi.V[i] = V[i]\n",
    "    def compute_energy(safe):\n",
    "        A = hbar**2 / (2 * m * dx**2)\n",
    "        ke = 0 + 0.j\n",
    "        pe = 0 + 0.j\n",
    "        psi = []\n",
    "        for i in range(0, len(Psi.Re)):\n",
    "            psi.append(Psi.Re[i] + Psi.Im[i] * 1.j)\n",
    "            pe += psi[i] * psi[i].conjugate() * Psi.V[i]\n",
    "        for i in range(1, len(Psi.Re) - 1):\n",
    "            Lap = psi[i + 1] - 2 * psi[i] + psi[i - 1]\n",
    "            ke += Lap * psi[i].conjugate() * (Psi.X[i] - Psi.X[i - 1])\n",
    "        KE = -A * np.real(ke)/(1.6 * 10**(-19))\n",
    "        PE = np.real(pe)\n",
    "        return (PE + KE)       \n",
    "       \n",
    "    "
   ]
  },
  {
   "cell_type": "code",
   "execution_count": 8,
   "id": "e919cc68-0d97-4f7b-979e-c965b79b0f8c",
   "metadata": {},
   "outputs": [],
   "source": [
    "  # Definicja potencjału\n",
    "V = []\n",
    "v = []\n",
    "x = -15\n",
    "while(x <= 15):\n",
    "    if((x >= -10.04 and x <= -9.96) or (x >= -6.04 and x <= -5.96) or (x >= -2.04 and x <= -1.96) or (x >= 1.96 and x <= 2.04) or (x >= 5.96 and x <= 6.04) or (x >= 9.96 and x <= 10.04)):\n",
    "        V.append(0.5 * 1.6 * 10**(-19))\n",
    "        v.append(1.5)\n",
    "    else:\n",
    "        V.append(0.0)\n",
    "        v.append(0)\n",
    "    x += 0.025  "
   ]
  },
  {
   "cell_type": "code",
   "execution_count": 9,
   "id": "537d6811-3246-42f0-b51f-b894bf69ce87",
   "metadata": {},
   "outputs": [
    {
     "data": {
      "text/plain": [
       "0.004767208581146815"
      ]
     },
     "execution_count": 9,
     "metadata": {},
     "output_type": "execute_result"
    }
   ],
   "source": [
    "psi = Psi()\n",
    "psi.initialise()\n",
    "psi.set_potential(V)\n",
    "psi.compute_energy()"
   ]
  },
  {
   "cell_type": "code",
   "execution_count": 11,
   "id": "746967e8-185b-47dd-907f-c325826d4ca3",
   "metadata": {},
   "outputs": [],
   "source": [
    "fig = plt.figure(figsize = (18,8))\n",
    "line4, = plt.plot([], [],'C4')\n",
    "line1, = plt.plot([], [],'C0')\n",
    "line2, = plt.plot([], [],'C1')\n",
    "line3, = plt.plot([], [],'C2')\n",
    "\n",
    "plt.grid(linestyle = '--',linewidth = 1)\n",
    "plt.ylim(-0.75,1.5)\n",
    "plt.xlim(-12, 12)\n",
    "plt.xlabel('$x$')\n",
    "plt.ylabel('$\\Psi(x,t)$')\n",
    "\n",
    "plt.close()\n",
    "\n",
    "def frame(i):\n",
    "    line4.set_data(psi.X, v)\n",
    "    line1.set_data(psi.X, psi.Re)\n",
    "    line2.set_data(psi.X, psi.Im)\n",
    "    line3.set_data(psi.X, psi.P)    \n",
    "    if(i > 0):\n",
    "        psi.update(100)\n",
    "    \n",
    "    return line1, line2, line3\n",
    "\n",
    "\n",
    "\n",
    "animation = FuncAnimation(fig, frame, frames = 1, interval = 20)\n",
    "\n",
    "#file = r\"grzebyk.html\"\n",
    "#writervideo = anim.HTMLWriter(fps=100) \n",
    "#animation.save(file, writer=writervideo)\n",
    "\n",
    "HTML(animation.to_jshtml())"
   ]
  }
 ],
 "metadata": {
  "kernelspec": {
   "display_name": "Python 3 (ipykernel)",
   "language": "python",
   "name": "python3"
  },
  "language_info": {
   "codemirror_mode": {
    "name": "ipython",
    "version": 3
   },
   "file_extension": ".py",
   "mimetype": "text/x-python",
   "name": "python",
   "nbconvert_exporter": "python",
   "pygments_lexer": "ipython3",
   "version": "3.9.7"
  }
 },
 "nbformat": 4,
 "nbformat_minor": 5
}
